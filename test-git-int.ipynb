{
 "cells": [
  {
   "cell_type": "code",
   "execution_count": 1,
   "metadata": {
    "scrolled": true
   },
   "outputs": [
    {
     "data": {
      "application/javascript": [
       "if (window.IPython && IPython.notebook.kernel) IPython.notebook.kernel.execute('jovian.utils.jupyter.get_notebook_name_saved = lambda: \"' + IPython.notebook.notebook_name + '\"')"
      ],
      "text/plain": [
       "<IPython.core.display.Javascript object>"
      ]
     },
     "metadata": {},
     "output_type": "display_data"
    },
    {
     "data": {
      "text/plain": [
       "'0.1.88'"
      ]
     },
     "execution_count": 1,
     "metadata": {},
     "output_type": "execute_result"
    }
   ],
   "source": [
    "import jovian\n",
    "jovian.__version__"
   ]
  },
  {
   "cell_type": "code",
   "execution_count": null,
   "metadata": {},
   "outputs": [
    {
     "name": "stdout",
     "output_type": "stream",
     "text": [
      "[jovian] Saving notebook..\n"
     ]
    },
    {
     "data": {
      "application/javascript": [
       "window.require && require([\"base/js/namespace\"],function(Jupyter){Jupyter.notebook.save_checkpoint()})"
      ],
      "text/plain": [
       "<IPython.core.display.Javascript object>"
      ]
     },
     "metadata": {},
     "output_type": "display_data"
    }
   ],
   "source": [
    "jovian.commit(git=True)"
   ]
  },
  {
   "cell_type": "code",
   "execution_count": 8,
   "metadata": {},
   "outputs": [
    {
     "name": "stdout",
     "output_type": "stream",
     "text": [
      "\u001b[33mc45c70e\u001b[m\u001b[33m (\u001b[m\u001b[1;36mHEAD -> \u001b[m\u001b[1;32mmaster\u001b[m\u001b[33m)\u001b[m HEAD@{0}: commit: jovian commit\n",
      "\u001b[33me6b6682\u001b[m HEAD@{1}: commit: jovian commit\n",
      "\u001b[33m10f1bdf\u001b[m HEAD@{2}: commit: jovian commit\n",
      "\u001b[33m8ad6735\u001b[m HEAD@{3}: commit: jovian commit\n",
      "\u001b[33m853d532\u001b[m HEAD@{4}: commit: jovian commit\n",
      "\u001b[33md8ab58d\u001b[m HEAD@{5}: commit: jovian commit\n",
      "\u001b[33m0231689\u001b[m HEAD@{6}: commit: jovian commit\n",
      "\u001b[33m54cd432\u001b[m\u001b[33m (\u001b[m\u001b[1;31morigin/master\u001b[m\u001b[33m, \u001b[m\u001b[1;31morigin/HEAD\u001b[m\u001b[33m)\u001b[m HEAD@{7}: commit: jovian commit\n",
      "\u001b[33mcf8c565\u001b[m HEAD@{8}: commit: jovian commit\n",
      "\u001b[33mcf3b27a\u001b[m HEAD@{9}: commit: jovian commit\n",
      "\u001b[33mfaf8dea\u001b[m HEAD@{10}: commit: jovian commit\n",
      "\u001b[33m5aba57a\u001b[m HEAD@{11}: commit: jovian commit\n",
      "\u001b[33m2f48e88\u001b[m HEAD@{12}: commit: jovian commit\n",
      "\u001b[33mb50ca60\u001b[m HEAD@{13}: commit: jovian commit\n",
      "\u001b[33m96bcd86\u001b[m HEAD@{14}: commit: jovian commit\n",
      "\u001b[33m4ab48dd\u001b[m HEAD@{15}: commit: jovian commit\n",
      "\u001b[33me4b4d12\u001b[m HEAD@{16}: commit: jovian commit\n",
      "\u001b[33me627d3b\u001b[m HEAD@{17}: commit: jovian commit\n",
      "\u001b[33me7e314e\u001b[m HEAD@{18}: commit: jovian commit\n",
      "\u001b[33m1597645\u001b[m HEAD@{19}: commit: jovian commit\n",
      "\u001b[33mc38168a\u001b[m HEAD@{20}: commit: jovian commit\n",
      "\u001b[33m0355185\u001b[m HEAD@{21}: commit: message\n",
      "\u001b[33mebd9ba5\u001b[m HEAD@{22}: commit: message\n",
      "\u001b[33m73e0024\u001b[m HEAD@{23}: commit: jovian commit\n",
      "\u001b[33m579dd03\u001b[m HEAD@{24}: commit: message\n",
      "\u001b[33m36666d8\u001b[m HEAD@{25}: commit: message\n",
      "\u001b[33m37b87fa\u001b[m HEAD@{26}: commit: message\n",
      "\u001b[33m8a91e46\u001b[m HEAD@{27}: commit: .\n",
      "\u001b[33m5da471e\u001b[m HEAD@{28}: commit: .\n",
      "\u001b[33m0a754c0\u001b[m HEAD@{29}: commit: jovian commit\n",
      "\u001b[33m7eac5ff\u001b[m HEAD@{30}: commit: jovian commit\n",
      "\u001b[33mbb4d18d\u001b[m HEAD@{31}: commit: jovian commit\n",
      "\u001b[33m4196232\u001b[m HEAD@{32}: commit: .\n",
      "\u001b[33m2431654\u001b[m HEAD@{33}: commit: .\n",
      "\u001b[33m71aca9d\u001b[m HEAD@{34}: commit: .\n",
      "\u001b[33me78416d\u001b[m HEAD@{35}: commit: jovian commit\n",
      "\u001b[33m7a3fd85\u001b[m HEAD@{36}: commit: jovian commit\n",
      "\u001b[33m6976360\u001b[m HEAD@{37}: commit: jovian commit\n",
      "\u001b[33macec53b\u001b[m HEAD@{38}: commit: jovian commit\n",
      "\u001b[33m4a31447\u001b[m HEAD@{39}: commit: .\n",
      "\u001b[33m6d0fb0e\u001b[m HEAD@{40}: commit: .\n",
      "\u001b[33maef5bc6\u001b[m HEAD@{41}: commit: .\n",
      "\u001b[33m1e47eee\u001b[m HEAD@{42}: commit: .\n",
      "\u001b[33m314e588\u001b[m HEAD@{43}: commit: test1\n",
      "\u001b[33me9aced6\u001b[m HEAD@{44}: commit: test1\n",
      "\u001b[33m7a61fe2\u001b[m HEAD@{45}: commit: test1\n",
      "\u001b[33mf660a26\u001b[m HEAD@{46}: commit: test1\n",
      "\u001b[33m1247df0\u001b[m HEAD@{47}: commit: test1\n",
      "\u001b[33mfed6db1\u001b[m HEAD@{48}: clone: from https://github.com/PrajwalPrashanth/test-git-int\n"
     ]
    }
   ],
   "source": [
    "!git reflog"
   ]
  },
  {
   "cell_type": "code",
   "execution_count": null,
   "metadata": {},
   "outputs": [],
   "source": []
  },
  {
   "cell_type": "code",
   "execution_count": null,
   "metadata": {},
   "outputs": [],
   "source": []
  },
  {
   "cell_type": "code",
   "execution_count": 3,
   "metadata": {},
   "outputs": [],
   "source": [
    "a = list(range(0,10))"
   ]
  },
  {
   "cell_type": "code",
   "execution_count": 4,
   "metadata": {},
   "outputs": [],
   "source": [
    "b = list(range(0,10,2))"
   ]
  },
  {
   "cell_type": "code",
   "execution_count": 5,
   "metadata": {},
   "outputs": [
    {
     "data": {
      "text/plain": [
       "{1, 3, 5, 7, 9}"
      ]
     },
     "execution_count": 5,
     "metadata": {},
     "output_type": "execute_result"
    }
   ],
   "source": [
    "set(a) - set(b)"
   ]
  },
  {
   "cell_type": "code",
   "execution_count": 4,
   "metadata": {},
   "outputs": [
    {
     "name": "stdout",
     "output_type": "stream",
     "text": [
      "[jovian] Saving notebook..\n"
     ]
    },
    {
     "data": {
      "application/javascript": [
       "window.require && require([\"base/js/namespace\"],function(Jupyter){Jupyter.notebook.save_checkpoint()})"
      ],
      "text/plain": [
       "<IPython.core.display.Javascript object>"
      ]
     },
     "metadata": {},
     "output_type": "display_data"
    },
    {
     "name": "stdout",
     "output_type": "stream",
     "text": [
      "[jovian] Committing to git...\n",
      "[jovian] Git commit Done.\n",
      "[jovian] Dataset logged.\n",
      "https://github.com/PrajwalPrashanth/test-git-int/tree/cf3b27a4aa509ef708f701a9b832db6e4a141a1e/./test-git-int.ipynb\n",
      "[jovian] Updating notebook \"53a881c347fb4349b513c78eadcfe9fe\" on https://jovian.ml/\n",
      "[jovian] Uploading notebook..\n",
      "[jovian] Capturing environment..\n",
      "[jovian] Recording metrics & hyperparameters..\n",
      "[jovian] Committed successfully! https://jovian.ml/PrajwalPrashanth/test-git-int\n"
     ]
    }
   ],
   "source": [
    "jovian.commit(git=True)"
   ]
  },
  {
   "cell_type": "code",
   "execution_count": 6,
   "metadata": {},
   "outputs": [
    {
     "name": "stdout",
     "output_type": "stream",
     "text": [
      "Hello jj\n"
     ]
    }
   ],
   "source": [
    "print('Hello jj')"
   ]
  },
  {
   "cell_type": "markdown",
   "metadata": {},
   "source": [
    "_data_blocks"
   ]
  },
  {
   "cell_type": "code",
   "execution_count": 29,
   "metadata": {},
   "outputs": [],
   "source": [
    "import sys"
   ]
  },
  {
   "cell_type": "code",
   "execution_count": 31,
   "metadata": {},
   "outputs": [],
   "source": [
    "import os"
   ]
  },
  {
   "cell_type": "code",
   "execution_count": 47,
   "metadata": {},
   "outputs": [
    {
     "ename": "NameError",
     "evalue": "name '__file__' is not defined",
     "output_type": "error",
     "traceback": [
      "\u001b[0;31m---------------------------------------------------------------------------\u001b[0m",
      "\u001b[0;31mNameError\u001b[0m                                 Traceback (most recent call last)",
      "\u001b[0;32m<ipython-input-47-b1d432ea2e61>\u001b[0m in \u001b[0;36m<module>\u001b[0;34m\u001b[0m\n\u001b[0;32m----> 1\u001b[0;31m \u001b[0mos\u001b[0m\u001b[0;34m.\u001b[0m\u001b[0mpath\u001b[0m\u001b[0;34m.\u001b[0m\u001b[0mdirname\u001b[0m\u001b[0;34m(\u001b[0m\u001b[0m__file__\u001b[0m\u001b[0;34m)\u001b[0m\u001b[0;34m\u001b[0m\u001b[0;34m\u001b[0m\u001b[0m\n\u001b[0m",
      "\u001b[0;31mNameError\u001b[0m: name '__file__' is not defined"
     ]
    }
   ],
   "source": [
    "os.path.dirname(__file__)"
   ]
  },
  {
   "cell_type": "code",
   "execution_count": 40,
   "metadata": {},
   "outputs": [
    {
     "ename": "AttributeError",
     "evalue": "'list' object has no attribute '__file__'",
     "output_type": "error",
     "traceback": [
      "\u001b[0;31m---------------------------------------------------------------------------\u001b[0m",
      "\u001b[0;31mAttributeError\u001b[0m                            Traceback (most recent call last)",
      "\u001b[0;32m<ipython-input-40-4557c43dbb71>\u001b[0m in \u001b[0;36m<module>\u001b[0;34m\u001b[0m\n\u001b[0;32m----> 1\u001b[0;31m \u001b[0msys\u001b[0m\u001b[0;34m.\u001b[0m\u001b[0mpath\u001b[0m\u001b[0;34m.\u001b[0m\u001b[0m__file__\u001b[0m\u001b[0;34m\u001b[0m\u001b[0;34m\u001b[0m\u001b[0m\n\u001b[0m",
      "\u001b[0;31mAttributeError\u001b[0m: 'list' object has no attribute '__file__'"
     ]
    }
   ],
   "source": [
    "sys.path.__file__"
   ]
  },
  {
   "cell_type": "code",
   "execution_count": 42,
   "metadata": {},
   "outputs": [
    {
     "ename": "ImportError",
     "evalue": "cannot import name '__file__' from '__main__' (unknown location)",
     "output_type": "error",
     "traceback": [
      "\u001b[0;31m---------------------------------------------------------------------------\u001b[0m",
      "\u001b[0;31mImportError\u001b[0m                               Traceback (most recent call last)",
      "\u001b[0;32m<ipython-input-42-cfb9694253ab>\u001b[0m in \u001b[0;36m<module>\u001b[0;34m\u001b[0m\n\u001b[0;32m----> 1\u001b[0;31m \u001b[0;32mfrom\u001b[0m \u001b[0m__main__\u001b[0m \u001b[0;32mimport\u001b[0m \u001b[0m__file__\u001b[0m\u001b[0;34m\u001b[0m\u001b[0;34m\u001b[0m\u001b[0m\n\u001b[0m",
      "\u001b[0;31mImportError\u001b[0m: cannot import name '__file__' from '__main__' (unknown location)"
     ]
    }
   ],
   "source": [
    "from __main__ import __file__"
   ]
  },
  {
   "cell_type": "code",
   "execution_count": 44,
   "metadata": {},
   "outputs": [],
   "source": [
    "x = jovian.utils.script.get_file_name()"
   ]
  },
  {
   "cell_type": "code",
   "execution_count": 45,
   "metadata": {},
   "outputs": [],
   "source": [
    "x"
   ]
  },
  {
   "cell_type": "code",
   "execution_count": 22,
   "metadata": {},
   "outputs": [],
   "source": [
    "from pprint import pprint"
   ]
  },
  {
   "cell_type": "code",
   "execution_count": 70,
   "metadata": {},
   "outputs": [],
   "source": [
    "import jupyter"
   ]
  },
  {
   "cell_type": "code",
   "execution_count": 71,
   "metadata": {},
   "outputs": [
    {
     "name": "stdout",
     "output_type": "stream",
     "text": [
      "{'__builtins__': {'ArithmeticError': <class 'ArithmeticError'>,\n",
      "                  'AssertionError': <class 'AssertionError'>,\n",
      "                  'AttributeError': <class 'AttributeError'>,\n",
      "                  'BaseException': <class 'BaseException'>,\n",
      "                  'BlockingIOError': <class 'BlockingIOError'>,\n",
      "                  'BrokenPipeError': <class 'BrokenPipeError'>,\n",
      "                  'BufferError': <class 'BufferError'>,\n",
      "                  'BytesWarning': <class 'BytesWarning'>,\n",
      "                  'ChildProcessError': <class 'ChildProcessError'>,\n",
      "                  'ConnectionAbortedError': <class 'ConnectionAbortedError'>,\n",
      "                  'ConnectionError': <class 'ConnectionError'>,\n",
      "                  'ConnectionRefusedError': <class 'ConnectionRefusedError'>,\n",
      "                  'ConnectionResetError': <class 'ConnectionResetError'>,\n",
      "                  'DeprecationWarning': <class 'DeprecationWarning'>,\n",
      "                  'EOFError': <class 'EOFError'>,\n",
      "                  'Ellipsis': Ellipsis,\n",
      "                  'EnvironmentError': <class 'OSError'>,\n",
      "                  'Exception': <class 'Exception'>,\n",
      "                  'False': False,\n",
      "                  'FileExistsError': <class 'FileExistsError'>,\n",
      "                  'FileNotFoundError': <class 'FileNotFoundError'>,\n",
      "                  'FloatingPointError': <class 'FloatingPointError'>,\n",
      "                  'FutureWarning': <class 'FutureWarning'>,\n",
      "                  'GeneratorExit': <class 'GeneratorExit'>,\n",
      "                  'IOError': <class 'OSError'>,\n",
      "                  'ImportError': <class 'ImportError'>,\n",
      "                  'ImportWarning': <class 'ImportWarning'>,\n",
      "                  'IndentationError': <class 'IndentationError'>,\n",
      "                  'IndexError': <class 'IndexError'>,\n",
      "                  'InterruptedError': <class 'InterruptedError'>,\n",
      "                  'IsADirectoryError': <class 'IsADirectoryError'>,\n",
      "                  'KeyError': <class 'KeyError'>,\n",
      "                  'KeyboardInterrupt': <class 'KeyboardInterrupt'>,\n",
      "                  'LookupError': <class 'LookupError'>,\n",
      "                  'MemoryError': <class 'MemoryError'>,\n",
      "                  'ModuleNotFoundError': <class 'ModuleNotFoundError'>,\n",
      "                  'NameError': <class 'NameError'>,\n",
      "                  'None': None,\n",
      "                  'NotADirectoryError': <class 'NotADirectoryError'>,\n",
      "                  'NotImplemented': NotImplemented,\n",
      "                  'NotImplementedError': <class 'NotImplementedError'>,\n",
      "                  'OSError': <class 'OSError'>,\n",
      "                  'OverflowError': <class 'OverflowError'>,\n",
      "                  'PendingDeprecationWarning': <class 'PendingDeprecationWarning'>,\n",
      "                  'PermissionError': <class 'PermissionError'>,\n",
      "                  'ProcessLookupError': <class 'ProcessLookupError'>,\n",
      "                  'RecursionError': <class 'RecursionError'>,\n",
      "                  'ReferenceError': <class 'ReferenceError'>,\n",
      "                  'ResourceWarning': <class 'ResourceWarning'>,\n",
      "                  'RuntimeError': <class 'RuntimeError'>,\n",
      "                  'RuntimeWarning': <class 'RuntimeWarning'>,\n",
      "                  'StopAsyncIteration': <class 'StopAsyncIteration'>,\n",
      "                  'StopIteration': <class 'StopIteration'>,\n",
      "                  'SyntaxError': <class 'SyntaxError'>,\n",
      "                  'SyntaxWarning': <class 'SyntaxWarning'>,\n",
      "                  'SystemError': <class 'SystemError'>,\n",
      "                  'SystemExit': <class 'SystemExit'>,\n",
      "                  'TabError': <class 'TabError'>,\n",
      "                  'TimeoutError': <class 'TimeoutError'>,\n",
      "                  'True': True,\n",
      "                  'TypeError': <class 'TypeError'>,\n",
      "                  'UnboundLocalError': <class 'UnboundLocalError'>,\n",
      "                  'UnicodeDecodeError': <class 'UnicodeDecodeError'>,\n",
      "                  'UnicodeEncodeError': <class 'UnicodeEncodeError'>,\n",
      "                  'UnicodeError': <class 'UnicodeError'>,\n",
      "                  'UnicodeTranslateError': <class 'UnicodeTranslateError'>,\n",
      "                  'UnicodeWarning': <class 'UnicodeWarning'>,\n",
      "                  'UserWarning': <class 'UserWarning'>,\n",
      "                  'ValueError': <class 'ValueError'>,\n",
      "                  'Warning': <class 'Warning'>,\n",
      "                  'ZeroDivisionError': <class 'ZeroDivisionError'>,\n",
      "                  '__IPYTHON__': True,\n",
      "                  '__build_class__': <built-in function __build_class__>,\n",
      "                  '__debug__': True,\n",
      "                  '__doc__': 'Built-in functions, exceptions, and other '\n",
      "                             'objects.\\n'\n",
      "                             '\\n'\n",
      "                             \"Noteworthy: None is the `nil' object; Ellipsis \"\n",
      "                             \"represents `...' in slices.\",\n",
      "                  '__import__': <built-in function __import__>,\n",
      "                  '__loader__': <class '_frozen_importlib.BuiltinImporter'>,\n",
      "                  '__name__': 'builtins',\n",
      "                  '__package__': '',\n",
      "                  '__spec__': ModuleSpec(name='builtins', loader=<class '_frozen_importlib.BuiltinImporter'>),\n",
      "                  'abs': <built-in function abs>,\n",
      "                  'all': <built-in function all>,\n",
      "                  'any': <built-in function any>,\n",
      "                  'ascii': <built-in function ascii>,\n",
      "                  'bin': <built-in function bin>,\n",
      "                  'bool': <class 'bool'>,\n",
      "                  'breakpoint': <built-in function breakpoint>,\n",
      "                  'bytearray': <class 'bytearray'>,\n",
      "                  'bytes': <class 'bytes'>,\n",
      "                  'callable': <built-in function callable>,\n",
      "                  'chr': <built-in function chr>,\n",
      "                  'classmethod': <class 'classmethod'>,\n",
      "                  'compile': <built-in function compile>,\n",
      "                  'complex': <class 'complex'>,\n",
      "                  'copyright': Copyright (c) 2001-2019 Python Software Foundation.\n",
      "All Rights Reserved.\n",
      "\n",
      "Copyright (c) 2000 BeOpen.com.\n",
      "All Rights Reserved.\n",
      "\n",
      "Copyright (c) 1995-2001 Corporation for National Research Initiatives.\n",
      "All Rights Reserved.\n",
      "\n",
      "Copyright (c) 1991-1995 Stichting Mathematisch Centrum, Amsterdam.\n",
      "All Rights Reserved.,\n",
      "                  'credits':     Thanks to CWI, CNRI, BeOpen.com, Zope Corporation and a cast of thousands\n",
      "    for supporting Python development.  See www.python.org for more information.,\n",
      "                  'delattr': <built-in function delattr>,\n",
      "                  'dict': <class 'dict'>,\n",
      "                  'dir': <built-in function dir>,\n",
      "                  'display': <function display at 0x7f73e0579170>,\n",
      "                  'divmod': <built-in function divmod>,\n",
      "                  'enumerate': <class 'enumerate'>,\n",
      "                  'eval': <built-in function eval>,\n",
      "                  'exec': <built-in function exec>,\n",
      "                  'filter': <class 'filter'>,\n",
      "                  'float': <class 'float'>,\n",
      "                  'format': <built-in function format>,\n",
      "                  'frozenset': <class 'frozenset'>,\n",
      "                  'get_ipython': <bound method InteractiveShell.get_ipython of <ipykernel.zmqshell.ZMQInteractiveShell object at 0x7f73de0d5a50>>,\n",
      "                  'getattr': <built-in function getattr>,\n",
      "                  'globals': <built-in function globals>,\n",
      "                  'hasattr': <built-in function hasattr>,\n",
      "                  'hash': <built-in function hash>,\n",
      "                  'help': Type help() for interactive help, or help(object) for help about object.,\n",
      "                  'hex': <built-in function hex>,\n",
      "                  'id': <built-in function id>,\n",
      "                  'input': <bound method Kernel.raw_input of <ipykernel.ipkernel.IPythonKernel object at 0x7f73de0d5910>>,\n",
      "                  'int': <class 'int'>,\n",
      "                  'isinstance': <built-in function isinstance>,\n",
      "                  'issubclass': <built-in function issubclass>,\n",
      "                  'iter': <built-in function iter>,\n",
      "                  'len': <built-in function len>,\n",
      "                  'license': Type license() to see the full license text,\n",
      "                  'list': <class 'list'>,\n",
      "                  'locals': <built-in function locals>,\n",
      "                  'map': <class 'map'>,\n",
      "                  'max': <built-in function max>,\n",
      "                  'memoryview': <class 'memoryview'>,\n",
      "                  'min': <built-in function min>,\n",
      "                  'next': <built-in function next>,\n",
      "                  'object': <class 'object'>,\n",
      "                  'oct': <built-in function oct>,\n",
      "                  'open': <built-in function open>,\n",
      "                  'ord': <built-in function ord>,\n",
      "                  'pow': <built-in function pow>,\n",
      "                  'print': <built-in function print>,\n",
      "                  'property': <class 'property'>,\n",
      "                  'range': <class 'range'>,\n",
      "                  'repr': <built-in function repr>,\n",
      "                  'reversed': <class 'reversed'>,\n",
      "                  'round': <built-in function round>,\n",
      "                  'set': <class 'set'>,\n",
      "                  'setattr': <built-in function setattr>,\n",
      "                  'slice': <class 'slice'>,\n",
      "                  'sorted': <built-in function sorted>,\n",
      "                  'staticmethod': <class 'staticmethod'>,\n",
      "                  'str': <class 'str'>,\n",
      "                  'sum': <built-in function sum>,\n",
      "                  'super': <class 'super'>,\n",
      "                  'tuple': <class 'tuple'>,\n",
      "                  'type': <class 'type'>,\n",
      "                  'vars': <built-in function vars>,\n",
      "                  'zip': <class 'zip'>},\n",
      " '__cached__': '/home/prajwal/anaconda3/envs/test-git-int/lib/python3.7/site-packages/__pycache__/jupyter.cpython-37.pyc',\n",
      " '__doc__': 'Launch the root jupyter command',\n",
      " '__file__': '/home/prajwal/anaconda3/envs/test-git-int/lib/python3.7/site-packages/jupyter.py',\n",
      " '__loader__': <_frozen_importlib_external.SourceFileLoader object at 0x7f73bf0bb490>,\n",
      " '__name__': 'jupyter',\n",
      " '__package__': '',\n",
      " '__spec__': ModuleSpec(name='jupyter', loader=<_frozen_importlib_external.SourceFileLoader object at 0x7f73bf0bb490>, origin='/home/prajwal/anaconda3/envs/test-git-int/lib/python3.7/site-packages/jupyter.py')}\n"
     ]
    }
   ],
   "source": [
    "pprint(vars(jupyter))"
   ]
  },
  {
   "cell_type": "code",
   "execution_count": 87,
   "metadata": {},
   "outputs": [
    {
     "data": {
      "text/plain": [
       "'.'"
      ]
     },
     "execution_count": 87,
     "metadata": {},
     "output_type": "execute_result"
    }
   ],
   "source": [
    "os.path.relpath(os.path.abspath(''), jovian.utils.git.git_root())"
   ]
  },
  {
   "cell_type": "code",
   "execution_count": 88,
   "metadata": {},
   "outputs": [
    {
     "data": {
      "text/plain": [
       "'/home/prajwal/Desktop/github/test-git-int'"
      ]
     },
     "execution_count": 88,
     "metadata": {},
     "output_type": "execute_result"
    }
   ],
   "source": [
    "os.path.abspath('')"
   ]
  },
  {
   "cell_type": "code",
   "execution_count": 90,
   "metadata": {},
   "outputs": [
    {
     "data": {
      "text/plain": [
       "'/home/prajwal/Desktop/github/test-git-int'"
      ]
     },
     "execution_count": 90,
     "metadata": {},
     "output_type": "execute_result"
    }
   ],
   "source": [
    "os.()"
   ]
  },
  {
   "cell_type": "code",
   "execution_count": null,
   "metadata": {},
   "outputs": [],
   "source": []
  },
  {
   "cell_type": "code",
   "execution_count": null,
   "metadata": {},
   "outputs": [],
   "source": []
  },
  {
   "cell_type": "code",
   "execution_count": 89,
   "metadata": {},
   "outputs": [
    {
     "data": {
      "text/plain": [
       "'/home/prajwal/Desktop/github/test-git-int'"
      ]
     },
     "execution_count": 89,
     "metadata": {},
     "output_type": "execute_result"
    }
   ],
   "source": [
    "jovian.utils.git.git_root()"
   ]
  },
  {
   "cell_type": "code",
   "execution_count": 7,
   "metadata": {},
   "outputs": [
    {
     "name": "stdout",
     "output_type": "stream",
     "text": [
      "hello world!...\n"
     ]
    }
   ],
   "source": [
    "print('hello world!...')"
   ]
  },
  {
   "cell_type": "code",
   "execution_count": 8,
   "metadata": {},
   "outputs": [],
   "source": [
    "import os "
   ]
  },
  {
   "cell_type": "code",
   "execution_count": 8,
   "metadata": {},
   "outputs": [
    {
     "ename": "AttributeError",
     "evalue": "'_io.TextIOWrapper' object has no attribute 'communicate'",
     "output_type": "error",
     "traceback": [
      "\u001b[0;31m---------------------------------------------------------------------------\u001b[0m",
      "\u001b[0;31mAttributeError\u001b[0m                            Traceback (most recent call last)",
      "\u001b[0;32m<ipython-input-8-3d8c5262d599>\u001b[0m in \u001b[0;36m<module>\u001b[0;34m\u001b[0m\n\u001b[1;32m      1\u001b[0m \u001b[0mcommit_response\u001b[0m \u001b[0;34m=\u001b[0m \u001b[0mos\u001b[0m\u001b[0;34m.\u001b[0m\u001b[0mpopen\u001b[0m\u001b[0;34m(\u001b[0m\u001b[0;34m'cd '\u001b[0m \u001b[0;34m+\u001b[0m \u001b[0mjovian\u001b[0m\u001b[0;34m.\u001b[0m\u001b[0mutils\u001b[0m\u001b[0;34m.\u001b[0m\u001b[0mgit\u001b[0m\u001b[0;34m.\u001b[0m\u001b[0mgit_root\u001b[0m\u001b[0;34m(\u001b[0m\u001b[0;34m)\u001b[0m \u001b[0;34m+\u001b[0m \u001b[0;34m' && git add . &&  git commit -a -m \"'\u001b[0m \u001b[0;34m+\u001b[0m \u001b[0;34m\"message\"\u001b[0m \u001b[0;34m+\u001b[0m \u001b[0;34m'\" && cd -'\u001b[0m\u001b[0;34m)\u001b[0m\u001b[0;34m\u001b[0m\u001b[0;34m\u001b[0m\u001b[0m\n\u001b[0;32m----> 2\u001b[0;31m \u001b[0mx\u001b[0m \u001b[0;34m=\u001b[0m \u001b[0mcommit_response\u001b[0m\u001b[0;34m.\u001b[0m\u001b[0mcommunicate\u001b[0m\u001b[0;34m(\u001b[0m\u001b[0;34m)\u001b[0m\u001b[0;34m\u001b[0m\u001b[0;34m\u001b[0m\u001b[0m\n\u001b[0m\u001b[1;32m      3\u001b[0m \u001b[0mcommit_hash\u001b[0m \u001b[0;34m=\u001b[0m \u001b[0mos\u001b[0m\u001b[0;34m.\u001b[0m\u001b[0mpopen\u001b[0m\u001b[0;34m(\u001b[0m\u001b[0;34m'git rev-parse HEAD'\u001b[0m\u001b[0;34m)\u001b[0m\u001b[0;34m.\u001b[0m\u001b[0mread\u001b[0m\u001b[0;34m(\u001b[0m\u001b[0;34m)\u001b[0m\u001b[0;34m.\u001b[0m\u001b[0mstrip\u001b[0m\u001b[0;34m(\u001b[0m\u001b[0;34m)\u001b[0m\u001b[0;34m\u001b[0m\u001b[0;34m\u001b[0m\u001b[0m\n",
      "\u001b[0;32m~/anaconda3/envs/test-git-int/lib/python3.7/os.py\u001b[0m in \u001b[0;36m__getattr__\u001b[0;34m(self, name)\u001b[0m\n\u001b[1;32m   1016\u001b[0m         \u001b[0mself\u001b[0m\u001b[0;34m.\u001b[0m\u001b[0mclose\u001b[0m\u001b[0;34m(\u001b[0m\u001b[0;34m)\u001b[0m\u001b[0;34m\u001b[0m\u001b[0;34m\u001b[0m\u001b[0m\n\u001b[1;32m   1017\u001b[0m     \u001b[0;32mdef\u001b[0m \u001b[0m__getattr__\u001b[0m\u001b[0;34m(\u001b[0m\u001b[0mself\u001b[0m\u001b[0;34m,\u001b[0m \u001b[0mname\u001b[0m\u001b[0;34m)\u001b[0m\u001b[0;34m:\u001b[0m\u001b[0;34m\u001b[0m\u001b[0;34m\u001b[0m\u001b[0m\n\u001b[0;32m-> 1018\u001b[0;31m         \u001b[0;32mreturn\u001b[0m \u001b[0mgetattr\u001b[0m\u001b[0;34m(\u001b[0m\u001b[0mself\u001b[0m\u001b[0;34m.\u001b[0m\u001b[0m_stream\u001b[0m\u001b[0;34m,\u001b[0m \u001b[0mname\u001b[0m\u001b[0;34m)\u001b[0m\u001b[0;34m\u001b[0m\u001b[0;34m\u001b[0m\u001b[0m\n\u001b[0m\u001b[1;32m   1019\u001b[0m     \u001b[0;32mdef\u001b[0m \u001b[0m__iter__\u001b[0m\u001b[0;34m(\u001b[0m\u001b[0mself\u001b[0m\u001b[0;34m)\u001b[0m\u001b[0;34m:\u001b[0m\u001b[0;34m\u001b[0m\u001b[0;34m\u001b[0m\u001b[0m\n\u001b[1;32m   1020\u001b[0m         \u001b[0;32mreturn\u001b[0m \u001b[0miter\u001b[0m\u001b[0;34m(\u001b[0m\u001b[0mself\u001b[0m\u001b[0;34m.\u001b[0m\u001b[0m_stream\u001b[0m\u001b[0;34m)\u001b[0m\u001b[0;34m\u001b[0m\u001b[0;34m\u001b[0m\u001b[0m\n",
      "\u001b[0;31mAttributeError\u001b[0m: '_io.TextIOWrapper' object has no attribute 'communicate'"
     ]
    }
   ],
   "source": [
    "commit_response = os.popen('cd ' + jovian.utils.git.git_root() + ' && git add . &&  git commit -a -m \"' + \"message\" + '\" && cd -')\n",
    "x = commit_response.communicate()\n",
    "commit_hash = os.popen('git rev-parse HEAD').read().strip()"
   ]
  },
  {
   "cell_type": "code",
   "execution_count": 9,
   "metadata": {},
   "outputs": [
    {
     "ename": "NameError",
     "evalue": "name 'x' is not defined",
     "output_type": "error",
     "traceback": [
      "\u001b[0;31m---------------------------------------------------------------------------\u001b[0m",
      "\u001b[0;31mNameError\u001b[0m                                 Traceback (most recent call last)",
      "\u001b[0;32m<ipython-input-9-6fcf9dfbd479>\u001b[0m in \u001b[0;36m<module>\u001b[0;34m\u001b[0m\n\u001b[0;32m----> 1\u001b[0;31m \u001b[0mx\u001b[0m\u001b[0;34m\u001b[0m\u001b[0;34m\u001b[0m\u001b[0m\n\u001b[0m",
      "\u001b[0;31mNameError\u001b[0m: name 'x' is not defined"
     ]
    }
   ],
   "source": [
    "x"
   ]
  },
  {
   "cell_type": "code",
   "execution_count": 6,
   "metadata": {},
   "outputs": [
    {
     "data": {
      "text/plain": [
       "'[master 0355185] message\\n 1 file changed, 24 insertions(+), 11 deletions(-)\\n/home/prajwal/Desktop/github/test-git-int\\n'"
      ]
     },
     "execution_count": 6,
     "metadata": {},
     "output_type": "execute_result"
    }
   ],
   "source": [
    "commit_response.read()"
   ]
  },
  {
   "cell_type": "code",
   "execution_count": 7,
   "metadata": {},
   "outputs": [
    {
     "data": {
      "text/plain": [
       "'ebd9ba5994ea016a2697925d1194efabae125451'"
      ]
     },
     "execution_count": 7,
     "metadata": {},
     "output_type": "execute_result"
    }
   ],
   "source": [
    "commit_hash"
   ]
  },
  {
   "cell_type": "code",
   "execution_count": null,
   "metadata": {},
   "outputs": [],
   "source": []
  }
 ],
 "metadata": {
  "kernelspec": {
   "display_name": "Python 3",
   "language": "python",
   "name": "python3"
  },
  "language_info": {
   "codemirror_mode": {
    "name": "ipython",
    "version": 3
   },
   "file_extension": ".py",
   "mimetype": "text/x-python",
   "name": "python",
   "nbconvert_exporter": "python",
   "pygments_lexer": "ipython3",
   "version": "3.7.5"
  }
 },
 "nbformat": 4,
 "nbformat_minor": 2
}
